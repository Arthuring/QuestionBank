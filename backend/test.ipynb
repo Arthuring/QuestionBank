{
 "cells": [
  {
   "cell_type": "code",
   "execution_count": 2,
   "metadata": {},
   "outputs": [],
   "source": [
    "import sqlite3\n",
    "data_base = sqlite3.connect(\"test.db\")\n",
    "data_base_cur = data_base.cursor()\n",
    "data_base_cur.execute(\"CREATE TABLE QUESTION_TABLE(ID INT KEY NOT NULL, QUESTION_JSON TEXT NOT NULL)\")\n",
    "data_base.commit()\n",
    "data_base.close()"
   ]
  },
  {
   "cell_type": "code",
   "execution_count": 25,
   "metadata": {},
   "outputs": [
    {
     "name": "stdout",
     "output_type": "stream",
     "text": [
      "1\n",
      "HELLO SQL\n"
     ]
    }
   ],
   "source": [
    "data_base = sqlite3.connect(\"test.db\")\n",
    "cur = data_base.cursor()\n",
    "cur.execute(\"INSERT INTO QUESTION_TABLE (ID,QUESTION_JSON) VALUES (10,'HELLO SQL');\")\n",
    "cur.execute(\"SELECT count(*) FROM QUESTION_TABLE\")\n",
    "result = cur.fetchone()\n",
    "print(result[0])\n",
    "cur.execute(\"SELECT * FROM QUESTION_TABLE WHERE ID == (?)\",(10,))\n",
    "result = cur.fetchone()\n",
    "print(result[1])\n",
    "data_base.close()"
   ]
  },
  {
   "cell_type": "code",
   "execution_count": 1,
   "metadata": {},
   "outputs": [
    {
     "name": "stdout",
     "output_type": "stream",
     "text": [
      "['多选', 'A', 'B', 'C', 'D', 'Ans']\n",
      "['下列哪些xxxx不是？', 'a', 'b', 'c', 'd']\n",
      "['ACD']\n",
      "{'type': 'multiple choice', 'question': '下列哪些xxxx不是？', 'ans': 'ACD', 'choice': {'A': 'a', 'B': 'b', 'C': 'c', 'D': 'd'}}\n"
     ]
    }
   ],
   "source": [
    "test_str_filling = '[填空题] Beihang University的英文简写是______ [Ans]:...'\n",
    "test_str_single_choice = '[单选] 下列哪个xxxx不是？ [A] a [B] b [C] c [D] d [Ans]:A/B/C/D'\n",
    "test_str_multiple_choice = '[多选] 下列哪些xxxx不是？ [A] a [B] b [C] c [D] d [Ans]:ACD'\n",
    "import re\n",
    "test_str = test_str_multiple_choice\n",
    "controlling_flag = re.findall(r\"\\[(.+?)\\]\",test_str)\n",
    "controlling_flag = [l.strip() for l in controlling_flag]\n",
    "question_str = re.findall(r\"\\](.+?)\\[\",test_str)\n",
    "question_str = [l.strip() for l in question_str]\n",
    "ans_str = re.findall(r\"\\[Ans\\]:(.+)\",test_str)\n",
    "ans_str = [l.strip() for l in ans_str]\n",
    "print(controlling_flag)\n",
    "print(question_str)\n",
    "print(ans_str)\n",
    "type_str = controlling_flag[0]\n",
    "ending_str = controlling_flag[-1]\n",
    "result = {'type':None,'question':None,'ans':None}\n",
    "result['ans'] = ' '.join(ans_str)\n",
    "# print(type_str,ending_str)\n",
    "assert(ending_str == 'Ans')\n",
    "if(type_str == '填空题'):\n",
    "    result['type'] = 'filling'\n",
    "    result['question'] = ' '.join(question_str)\n",
    "elif(type_str == '单选'):\n",
    "    if(len(question_str) != len(controlling_flag) - 1 or len(question_str) == 1):\n",
    "        print(\"Unexpected choice question!\")\n",
    "    result['type'] = 'single choice'\n",
    "    result['question'] = question_str[0]\n",
    "    choice = {}\n",
    "    for i in range(1,len(question_str)):\n",
    "        choice[controlling_flag[i]] = question_str[i]\n",
    "    result['choice'] = choice\n",
    "elif(type_str == '多选'):\n",
    "    if(len(question_str) != len(controlling_flag) - 1 or len(question_str) == 1):\n",
    "        print(\"Unexpected choice question!\")\n",
    "    result['type'] = 'multiple choice'\n",
    "    result['question'] = question_str[0]\n",
    "    choice = {}\n",
    "    for i in range(1,len(question_str)):\n",
    "        choice[controlling_flag[i]] = question_str[i]\n",
    "    result['choice'] = choice\n",
    "else:\n",
    "    print('Unexpected question type')\n",
    "    # assert(1)\n",
    "print(result)\n",
    "    "
   ]
  },
  {
   "cell_type": "code",
   "execution_count": 15,
   "metadata": {},
   "outputs": [
    {
     "name": "stdout",
     "output_type": "stream",
     "text": [
      "(4, '{\"type\": \"single choice\", \"question\": \"\\\\u4e0b\\\\u5217\\\\u54ea\\\\u4e2axxxx\\\\u4e0d\\\\u662f\\\\uff1f\", \"ans\": \"A/B/C/D\", \"choice\": {\"A\": \":...\", \"B\": \":...\", \"C\": \":...\", \"D\": \":...\"}}')\n",
      "(5, '{\"type\": \"multiple choice\", \"question\": \"\\\\u4e0b\\\\u5217\\\\u54ea\\\\u4e9bxxxx\\\\u4e0d\\\\u662f\\\\uff1f\", \"ans\": \"ACD\", \"choice\": {\"A\": \":...\", \"B\": \":...\", \"C\": \":...\", \"D\": \":...\"}}')\n",
      "(0, '{\"type\": \"filling\", \"question\": \"Beihang University\\\\u7684\\\\u82f1\\\\u6587\\\\u7b80\\\\u5199\\\\u662f______\", \"ans\": \"...\"}')\n"
     ]
    }
   ],
   "source": [
    "from utils.data_base import db_wrap\n",
    "\n",
    "db = db_wrap(\"my_question.db\")\n",
    "db.delete_data(2)\n",
    "r = db.get_data_random(3)\n",
    "r = [str(i) for i in r]\n",
    "print('\\n'.join(r))"
   ]
  },
  {
   "cell_type": "code",
   "execution_count": 1,
   "metadata": {},
   "outputs": [
    {
     "ename": "TesseractNotFoundError",
     "evalue": "tesseract is not installed or it's not in your PATH. See README file for more information.",
     "output_type": "error",
     "traceback": [
      "\u001b[0;31m---------------------------------------------------------------------------\u001b[0m",
      "\u001b[0;31mFileNotFoundError\u001b[0m                         Traceback (most recent call last)",
      "File \u001b[0;32m~/.local/lib/python3.10/site-packages/pytesseract/pytesseract.py:254\u001b[0m, in \u001b[0;36mrun_tesseract\u001b[0;34m(input_filename, output_filename_base, extension, lang, config, nice, timeout)\u001b[0m\n\u001b[1;32m    <a href='file:///home/dofingert/.local/lib/python3.10/site-packages/pytesseract/pytesseract.py?line=252'>253</a>\u001b[0m \u001b[39mtry\u001b[39;00m:\n\u001b[0;32m--> <a href='file:///home/dofingert/.local/lib/python3.10/site-packages/pytesseract/pytesseract.py?line=253'>254</a>\u001b[0m     proc \u001b[39m=\u001b[39m subprocess\u001b[39m.\u001b[39;49mPopen(cmd_args, \u001b[39m*\u001b[39;49m\u001b[39m*\u001b[39;49msubprocess_args())\n\u001b[1;32m    <a href='file:///home/dofingert/.local/lib/python3.10/site-packages/pytesseract/pytesseract.py?line=254'>255</a>\u001b[0m \u001b[39mexcept\u001b[39;00m \u001b[39mOSError\u001b[39;00m \u001b[39mas\u001b[39;00m e:\n",
      "File \u001b[0;32m/usr/lib/python3.10/subprocess.py:969\u001b[0m, in \u001b[0;36mPopen.__init__\u001b[0;34m(self, args, bufsize, executable, stdin, stdout, stderr, preexec_fn, close_fds, shell, cwd, env, universal_newlines, startupinfo, creationflags, restore_signals, start_new_session, pass_fds, user, group, extra_groups, encoding, errors, text, umask, pipesize)\u001b[0m\n\u001b[1;32m    <a href='file:///usr/lib/python3.10/subprocess.py?line=965'>966</a>\u001b[0m             \u001b[39mself\u001b[39m\u001b[39m.\u001b[39mstderr \u001b[39m=\u001b[39m io\u001b[39m.\u001b[39mTextIOWrapper(\u001b[39mself\u001b[39m\u001b[39m.\u001b[39mstderr,\n\u001b[1;32m    <a href='file:///usr/lib/python3.10/subprocess.py?line=966'>967</a>\u001b[0m                     encoding\u001b[39m=\u001b[39mencoding, errors\u001b[39m=\u001b[39merrors)\n\u001b[0;32m--> <a href='file:///usr/lib/python3.10/subprocess.py?line=968'>969</a>\u001b[0m     \u001b[39mself\u001b[39;49m\u001b[39m.\u001b[39;49m_execute_child(args, executable, preexec_fn, close_fds,\n\u001b[1;32m    <a href='file:///usr/lib/python3.10/subprocess.py?line=969'>970</a>\u001b[0m                         pass_fds, cwd, env,\n\u001b[1;32m    <a href='file:///usr/lib/python3.10/subprocess.py?line=970'>971</a>\u001b[0m                         startupinfo, creationflags, shell,\n\u001b[1;32m    <a href='file:///usr/lib/python3.10/subprocess.py?line=971'>972</a>\u001b[0m                         p2cread, p2cwrite,\n\u001b[1;32m    <a href='file:///usr/lib/python3.10/subprocess.py?line=972'>973</a>\u001b[0m                         c2pread, c2pwrite,\n\u001b[1;32m    <a href='file:///usr/lib/python3.10/subprocess.py?line=973'>974</a>\u001b[0m                         errread, errwrite,\n\u001b[1;32m    <a href='file:///usr/lib/python3.10/subprocess.py?line=974'>975</a>\u001b[0m                         restore_signals,\n\u001b[1;32m    <a href='file:///usr/lib/python3.10/subprocess.py?line=975'>976</a>\u001b[0m                         gid, gids, uid, umask,\n\u001b[1;32m    <a href='file:///usr/lib/python3.10/subprocess.py?line=976'>977</a>\u001b[0m                         start_new_session)\n\u001b[1;32m    <a href='file:///usr/lib/python3.10/subprocess.py?line=977'>978</a>\u001b[0m \u001b[39mexcept\u001b[39;00m:\n\u001b[1;32m    <a href='file:///usr/lib/python3.10/subprocess.py?line=978'>979</a>\u001b[0m     \u001b[39m# Cleanup if the child failed starting.\u001b[39;00m\n",
      "File \u001b[0;32m/usr/lib/python3.10/subprocess.py:1845\u001b[0m, in \u001b[0;36mPopen._execute_child\u001b[0;34m(self, args, executable, preexec_fn, close_fds, pass_fds, cwd, env, startupinfo, creationflags, shell, p2cread, p2cwrite, c2pread, c2pwrite, errread, errwrite, restore_signals, gid, gids, uid, umask, start_new_session)\u001b[0m\n\u001b[1;32m   <a href='file:///usr/lib/python3.10/subprocess.py?line=1843'>1844</a>\u001b[0m         err_msg \u001b[39m=\u001b[39m os\u001b[39m.\u001b[39mstrerror(errno_num)\n\u001b[0;32m-> <a href='file:///usr/lib/python3.10/subprocess.py?line=1844'>1845</a>\u001b[0m     \u001b[39mraise\u001b[39;00m child_exception_type(errno_num, err_msg, err_filename)\n\u001b[1;32m   <a href='file:///usr/lib/python3.10/subprocess.py?line=1845'>1846</a>\u001b[0m \u001b[39mraise\u001b[39;00m child_exception_type(err_msg)\n",
      "\u001b[0;31mFileNotFoundError\u001b[0m: [Errno 2] No such file or directory: 'tesseract'",
      "\nDuring handling of the above exception, another exception occurred:\n",
      "\u001b[0;31mTesseractNotFoundError\u001b[0m                    Traceback (most recent call last)",
      "\u001b[1;32m/home/dofingert/Source/QuestionBank/backend/test.ipynb Cell 5'\u001b[0m in \u001b[0;36m<module>\u001b[0;34m\u001b[0m\n\u001b[1;32m      <a href='vscode-notebook-cell:/home/dofingert/Source/QuestionBank/backend/test.ipynb#ch0000004?line=0'>1</a>\u001b[0m \u001b[39mfrom\u001b[39;00m \u001b[39mocr\u001b[39;00m \u001b[39mimport\u001b[39;00m OCR\n\u001b[0;32m----> <a href='vscode-notebook-cell:/home/dofingert/Source/QuestionBank/backend/test.ipynb#ch0000004?line=2'>3</a>\u001b[0m r \u001b[39m=\u001b[39m OCR(\u001b[39m\"\u001b[39;49m\u001b[39m/home/dofingert/图片/Screenshot_20220806_201015.png\u001b[39;49m\u001b[39m\"\u001b[39;49m)\n",
      "File \u001b[0;32m~/Source/QuestionBank/backend/ocr.py:8\u001b[0m, in \u001b[0;36mOCR\u001b[0;34m(imgPath, mode)\u001b[0m\n\u001b[1;32m      <a href='file:///home/dofingert/Source/QuestionBank/backend/ocr.py?line=5'>6</a>\u001b[0m config \u001b[39m=\u001b[39m (\u001b[39m'\u001b[39m\u001b[39m-l chi_sim --oem 1 --psm 3\u001b[39m\u001b[39m'\u001b[39m)\n\u001b[1;32m      <a href='file:///home/dofingert/Source/QuestionBank/backend/ocr.py?line=6'>7</a>\u001b[0m im \u001b[39m=\u001b[39m cv2\u001b[39m.\u001b[39mimread(imgPath, cv2\u001b[39m.\u001b[39mIMREAD_COLOR)\n\u001b[0;32m----> <a href='file:///home/dofingert/Source/QuestionBank/backend/ocr.py?line=7'>8</a>\u001b[0m text \u001b[39m=\u001b[39m pytesseract\u001b[39m.\u001b[39;49mimage_to_string(im, config\u001b[39m=\u001b[39;49mconfig)\n\u001b[1;32m      <a href='file:///home/dofingert/Source/QuestionBank/backend/ocr.py?line=8'>9</a>\u001b[0m \u001b[39mreturn\u001b[39;00m \u001b[39mstr\u001b[39m(text)\n",
      "File \u001b[0;32m~/.local/lib/python3.10/site-packages/pytesseract/pytesseract.py:416\u001b[0m, in \u001b[0;36mimage_to_string\u001b[0;34m(image, lang, config, nice, output_type, timeout)\u001b[0m\n\u001b[1;32m    <a href='file:///home/dofingert/.local/lib/python3.10/site-packages/pytesseract/pytesseract.py?line=410'>411</a>\u001b[0m \u001b[39m\"\"\"\u001b[39;00m\n\u001b[1;32m    <a href='file:///home/dofingert/.local/lib/python3.10/site-packages/pytesseract/pytesseract.py?line=411'>412</a>\u001b[0m \u001b[39mReturns the result of a Tesseract OCR run on the provided image to string\u001b[39;00m\n\u001b[1;32m    <a href='file:///home/dofingert/.local/lib/python3.10/site-packages/pytesseract/pytesseract.py?line=412'>413</a>\u001b[0m \u001b[39m\"\"\"\u001b[39;00m\n\u001b[1;32m    <a href='file:///home/dofingert/.local/lib/python3.10/site-packages/pytesseract/pytesseract.py?line=413'>414</a>\u001b[0m args \u001b[39m=\u001b[39m [image, \u001b[39m'\u001b[39m\u001b[39mtxt\u001b[39m\u001b[39m'\u001b[39m, lang, config, nice, timeout]\n\u001b[0;32m--> <a href='file:///home/dofingert/.local/lib/python3.10/site-packages/pytesseract/pytesseract.py?line=415'>416</a>\u001b[0m \u001b[39mreturn\u001b[39;00m {\n\u001b[1;32m    <a href='file:///home/dofingert/.local/lib/python3.10/site-packages/pytesseract/pytesseract.py?line=416'>417</a>\u001b[0m     Output\u001b[39m.\u001b[39;49mBYTES: \u001b[39mlambda\u001b[39;49;00m: run_and_get_output(\u001b[39m*\u001b[39;49m(args \u001b[39m+\u001b[39;49m [\u001b[39mTrue\u001b[39;49;00m])),\n\u001b[1;32m    <a href='file:///home/dofingert/.local/lib/python3.10/site-packages/pytesseract/pytesseract.py?line=417'>418</a>\u001b[0m     Output\u001b[39m.\u001b[39;49mDICT: \u001b[39mlambda\u001b[39;49;00m: {\u001b[39m'\u001b[39;49m\u001b[39mtext\u001b[39;49m\u001b[39m'\u001b[39;49m: run_and_get_output(\u001b[39m*\u001b[39;49margs)},\n\u001b[1;32m    <a href='file:///home/dofingert/.local/lib/python3.10/site-packages/pytesseract/pytesseract.py?line=418'>419</a>\u001b[0m     Output\u001b[39m.\u001b[39;49mSTRING: \u001b[39mlambda\u001b[39;49;00m: run_and_get_output(\u001b[39m*\u001b[39;49margs),\n\u001b[1;32m    <a href='file:///home/dofingert/.local/lib/python3.10/site-packages/pytesseract/pytesseract.py?line=419'>420</a>\u001b[0m }[output_type]()\n",
      "File \u001b[0;32m~/.local/lib/python3.10/site-packages/pytesseract/pytesseract.py:419\u001b[0m, in \u001b[0;36mimage_to_string.<locals>.<lambda>\u001b[0;34m()\u001b[0m\n\u001b[1;32m    <a href='file:///home/dofingert/.local/lib/python3.10/site-packages/pytesseract/pytesseract.py?line=410'>411</a>\u001b[0m \u001b[39m\"\"\"\u001b[39;00m\n\u001b[1;32m    <a href='file:///home/dofingert/.local/lib/python3.10/site-packages/pytesseract/pytesseract.py?line=411'>412</a>\u001b[0m \u001b[39mReturns the result of a Tesseract OCR run on the provided image to string\u001b[39;00m\n\u001b[1;32m    <a href='file:///home/dofingert/.local/lib/python3.10/site-packages/pytesseract/pytesseract.py?line=412'>413</a>\u001b[0m \u001b[39m\"\"\"\u001b[39;00m\n\u001b[1;32m    <a href='file:///home/dofingert/.local/lib/python3.10/site-packages/pytesseract/pytesseract.py?line=413'>414</a>\u001b[0m args \u001b[39m=\u001b[39m [image, \u001b[39m'\u001b[39m\u001b[39mtxt\u001b[39m\u001b[39m'\u001b[39m, lang, config, nice, timeout]\n\u001b[1;32m    <a href='file:///home/dofingert/.local/lib/python3.10/site-packages/pytesseract/pytesseract.py?line=415'>416</a>\u001b[0m \u001b[39mreturn\u001b[39;00m {\n\u001b[1;32m    <a href='file:///home/dofingert/.local/lib/python3.10/site-packages/pytesseract/pytesseract.py?line=416'>417</a>\u001b[0m     Output\u001b[39m.\u001b[39mBYTES: \u001b[39mlambda\u001b[39;00m: run_and_get_output(\u001b[39m*\u001b[39m(args \u001b[39m+\u001b[39m [\u001b[39mTrue\u001b[39;00m])),\n\u001b[1;32m    <a href='file:///home/dofingert/.local/lib/python3.10/site-packages/pytesseract/pytesseract.py?line=417'>418</a>\u001b[0m     Output\u001b[39m.\u001b[39mDICT: \u001b[39mlambda\u001b[39;00m: {\u001b[39m'\u001b[39m\u001b[39mtext\u001b[39m\u001b[39m'\u001b[39m: run_and_get_output(\u001b[39m*\u001b[39margs)},\n\u001b[0;32m--> <a href='file:///home/dofingert/.local/lib/python3.10/site-packages/pytesseract/pytesseract.py?line=418'>419</a>\u001b[0m     Output\u001b[39m.\u001b[39mSTRING: \u001b[39mlambda\u001b[39;00m: run_and_get_output(\u001b[39m*\u001b[39;49margs),\n\u001b[1;32m    <a href='file:///home/dofingert/.local/lib/python3.10/site-packages/pytesseract/pytesseract.py?line=419'>420</a>\u001b[0m }[output_type]()\n",
      "File \u001b[0;32m~/.local/lib/python3.10/site-packages/pytesseract/pytesseract.py:286\u001b[0m, in \u001b[0;36mrun_and_get_output\u001b[0;34m(image, extension, lang, config, nice, timeout, return_bytes)\u001b[0m\n\u001b[1;32m    <a href='file:///home/dofingert/.local/lib/python3.10/site-packages/pytesseract/pytesseract.py?line=274'>275</a>\u001b[0m \u001b[39mwith\u001b[39;00m save(image) \u001b[39mas\u001b[39;00m (temp_name, input_filename):\n\u001b[1;32m    <a href='file:///home/dofingert/.local/lib/python3.10/site-packages/pytesseract/pytesseract.py?line=275'>276</a>\u001b[0m     kwargs \u001b[39m=\u001b[39m {\n\u001b[1;32m    <a href='file:///home/dofingert/.local/lib/python3.10/site-packages/pytesseract/pytesseract.py?line=276'>277</a>\u001b[0m         \u001b[39m'\u001b[39m\u001b[39minput_filename\u001b[39m\u001b[39m'\u001b[39m: input_filename,\n\u001b[1;32m    <a href='file:///home/dofingert/.local/lib/python3.10/site-packages/pytesseract/pytesseract.py?line=277'>278</a>\u001b[0m         \u001b[39m'\u001b[39m\u001b[39moutput_filename_base\u001b[39m\u001b[39m'\u001b[39m: temp_name,\n\u001b[0;32m   (...)\u001b[0m\n\u001b[1;32m    <a href='file:///home/dofingert/.local/lib/python3.10/site-packages/pytesseract/pytesseract.py?line=282'>283</a>\u001b[0m         \u001b[39m'\u001b[39m\u001b[39mtimeout\u001b[39m\u001b[39m'\u001b[39m: timeout,\n\u001b[1;32m    <a href='file:///home/dofingert/.local/lib/python3.10/site-packages/pytesseract/pytesseract.py?line=283'>284</a>\u001b[0m     }\n\u001b[0;32m--> <a href='file:///home/dofingert/.local/lib/python3.10/site-packages/pytesseract/pytesseract.py?line=285'>286</a>\u001b[0m     run_tesseract(\u001b[39m*\u001b[39;49m\u001b[39m*\u001b[39;49mkwargs)\n\u001b[1;32m    <a href='file:///home/dofingert/.local/lib/python3.10/site-packages/pytesseract/pytesseract.py?line=286'>287</a>\u001b[0m     filename \u001b[39m=\u001b[39m kwargs[\u001b[39m'\u001b[39m\u001b[39moutput_filename_base\u001b[39m\u001b[39m'\u001b[39m] \u001b[39m+\u001b[39m extsep \u001b[39m+\u001b[39m extension\n\u001b[1;32m    <a href='file:///home/dofingert/.local/lib/python3.10/site-packages/pytesseract/pytesseract.py?line=287'>288</a>\u001b[0m     \u001b[39mwith\u001b[39;00m \u001b[39mopen\u001b[39m(filename, \u001b[39m'\u001b[39m\u001b[39mrb\u001b[39m\u001b[39m'\u001b[39m) \u001b[39mas\u001b[39;00m output_file:\n",
      "File \u001b[0;32m~/.local/lib/python3.10/site-packages/pytesseract/pytesseract.py:258\u001b[0m, in \u001b[0;36mrun_tesseract\u001b[0;34m(input_filename, output_filename_base, extension, lang, config, nice, timeout)\u001b[0m\n\u001b[1;32m    <a href='file:///home/dofingert/.local/lib/python3.10/site-packages/pytesseract/pytesseract.py?line=255'>256</a>\u001b[0m     \u001b[39mif\u001b[39;00m e\u001b[39m.\u001b[39merrno \u001b[39m!=\u001b[39m ENOENT:\n\u001b[1;32m    <a href='file:///home/dofingert/.local/lib/python3.10/site-packages/pytesseract/pytesseract.py?line=256'>257</a>\u001b[0m         \u001b[39mraise\u001b[39;00m e\n\u001b[0;32m--> <a href='file:///home/dofingert/.local/lib/python3.10/site-packages/pytesseract/pytesseract.py?line=257'>258</a>\u001b[0m     \u001b[39mraise\u001b[39;00m TesseractNotFoundError()\n\u001b[1;32m    <a href='file:///home/dofingert/.local/lib/python3.10/site-packages/pytesseract/pytesseract.py?line=259'>260</a>\u001b[0m \u001b[39mwith\u001b[39;00m timeout_manager(proc, timeout) \u001b[39mas\u001b[39;00m error_string:\n\u001b[1;32m    <a href='file:///home/dofingert/.local/lib/python3.10/site-packages/pytesseract/pytesseract.py?line=260'>261</a>\u001b[0m     \u001b[39mif\u001b[39;00m proc\u001b[39m.\u001b[39mreturncode:\n",
      "\u001b[0;31mTesseractNotFoundError\u001b[0m: tesseract is not installed or it's not in your PATH. See README file for more information."
     ]
    }
   ],
   "source": [
    "from ocr import OCR\n",
    "\n",
    "r = OCR(\"/home/dofingert/图片/Screenshot_20220806_201015.png\")"
   ]
  }
 ],
 "metadata": {
  "interpreter": {
   "hash": "767d51c1340bd893661ea55ea3124f6de3c7a262a8b4abca0554b478b1e2ff90"
  },
  "kernelspec": {
   "display_name": "Python 3.10.5 64-bit",
   "language": "python",
   "name": "python3"
  },
  "language_info": {
   "codemirror_mode": {
    "name": "ipython",
    "version": 3
   },
   "file_extension": ".py",
   "mimetype": "text/x-python",
   "name": "python",
   "nbconvert_exporter": "python",
   "pygments_lexer": "ipython3",
   "version": "3.10.5"
  },
  "orig_nbformat": 4
 },
 "nbformat": 4,
 "nbformat_minor": 2
}
