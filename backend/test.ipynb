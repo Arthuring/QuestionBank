{
 "cells": [
  {
   "cell_type": "code",
   "execution_count": 2,
   "metadata": {},
   "outputs": [],
   "source": [
    "import sqlite3\n",
    "data_base = sqlite3.connect(\"test.db\")\n",
    "data_base_cur = data_base.cursor()\n",
    "data_base_cur.execute(\"CREATE TABLE QUESTION_TABLE(ID INT KEY NOT NULL, QUESTION_JSON TEXT NOT NULL)\")\n",
    "data_base.commit()\n",
    "data_base.close()"
   ]
  },
  {
   "cell_type": "code",
   "execution_count": 1,
   "metadata": {},
   "outputs": [
    {
     "ename": "NameError",
     "evalue": "name 'sqlite3' is not defined",
     "output_type": "error",
     "traceback": [
      "\u001b[0;31m---------------------------------------------------------------------------\u001b[0m",
      "\u001b[0;31mNameError\u001b[0m                                 Traceback (most recent call last)",
      "\u001b[1;32m/home/dofingert/Source/QuestionBank/backend/test.ipynb Cell 2'\u001b[0m in \u001b[0;36m<module>\u001b[0;34m\u001b[0m\n\u001b[0;32m----> <a href='vscode-notebook-cell:/home/dofingert/Source/QuestionBank/backend/test.ipynb#ch0000001?line=0'>1</a>\u001b[0m data_base \u001b[39m=\u001b[39m sqlite3\u001b[39m.\u001b[39mconnect(\u001b[39m\"\u001b[39m\u001b[39mtest.db\u001b[39m\u001b[39m\"\u001b[39m)\n\u001b[1;32m      <a href='vscode-notebook-cell:/home/dofingert/Source/QuestionBank/backend/test.ipynb#ch0000001?line=1'>2</a>\u001b[0m cur \u001b[39m=\u001b[39m data_base\u001b[39m.\u001b[39mcursor()\n\u001b[1;32m      <a href='vscode-notebook-cell:/home/dofingert/Source/QuestionBank/backend/test.ipynb#ch0000001?line=2'>3</a>\u001b[0m cur\u001b[39m.\u001b[39mexecute(\u001b[39m\"\u001b[39m\u001b[39mINSERT INTO QUESTION_TABLE (ID,QUESTION_JSON) VALUES (10,\u001b[39m\u001b[39m'\u001b[39m\u001b[39mHELLO SQL\u001b[39m\u001b[39m'\u001b[39m\u001b[39m);\u001b[39m\u001b[39m\"\u001b[39m)\n",
      "\u001b[0;31mNameError\u001b[0m: name 'sqlite3' is not defined"
     ]
    }
   ],
   "source": [
    "data_base = sqlite3.connect(\"test.db\")\n",
    "cur = data_base.cursor()\n",
    "cur.execute(\"INSERT INTO QUESTION_TABLE (ID,QUESTION_JSON) VALUES (10,'HELLO SQL');\")\n",
    "cur.execute(\"SELECT count(*) FROM QUESTION_TABLE\")\n",
    "result = cur.fetchone()\n",
    "print(result[0])\n",
    "cur.execute(\"SELECT * FROM QUESTION_TABLE WHERE ID == (?)\",(10,))\n",
    "result = cur.fetchone()\n",
    "print(result[1])\n",
    "data_base.close()"
   ]
  },
  {
   "cell_type": "code",
   "execution_count": 1,
   "metadata": {},
   "outputs": [
    {
     "name": "stdout",
     "output_type": "stream",
     "text": [
      "['多选', 'A', 'B', 'C', 'D', 'Ans']\n",
      "['下列哪些xxxx不是？', 'a', 'b', 'c', 'd']\n",
      "['ACD']\n",
      "{'type': 'multiple choice', 'question': '下列哪些xxxx不是？', 'ans': 'ACD', 'choice': {'A': 'a', 'B': 'b', 'C': 'c', 'D': 'd'}}\n"
     ]
    }
   ],
   "source": [
    "test_str_filling = '[填空题] Beihang University的英文简写是______ [Ans]:...'\n",
    "test_str_single_choice = '[单选] 下列哪个xxxx不是？ [A] a [B] b [C] c [D] d [Ans]:A/B/C/D'\n",
    "test_str_multiple_choice = '[多选] 下列哪些xxxx不是？ [A] a [B] b [C] c [D] d [Ans]:ACD'\n",
    "import re\n",
    "test_str = test_str_multiple_choice\n",
    "controlling_flag = re.findall(r\"\\[(.+?)\\]\",test_str)\n",
    "controlling_flag = [l.strip() for l in controlling_flag]\n",
    "question_str = re.findall(r\"\\](.+?)\\[\",test_str)\n",
    "question_str = [l.strip() for l in question_str]\n",
    "ans_str = re.findall(r\"\\[Ans\\]:(.+)\",test_str)\n",
    "ans_str = [l.strip() for l in ans_str]\n",
    "print(controlling_flag)\n",
    "print(question_str)\n",
    "print(ans_str)\n",
    "type_str = controlling_flag[0]\n",
    "ending_str = controlling_flag[-1]\n",
    "result = {'type':None,'question':None,'ans':None}\n",
    "result['ans'] = ' '.join(ans_str)\n",
    "# print(type_str,ending_str)\n",
    "assert(ending_str == 'Ans')\n",
    "if(type_str == '填空题'):\n",
    "    result['type'] = 'filling'\n",
    "    result['question'] = ' '.join(question_str)\n",
    "elif(type_str == '单选'):\n",
    "    if(len(question_str) != len(controlling_flag) - 1 or len(question_str) == 1):\n",
    "        print(\"Unexpected choice question!\")\n",
    "    result['type'] = 'single choice'\n",
    "    result['question'] = question_str[0]\n",
    "    choice = {}\n",
    "    for i in range(1,len(question_str)):\n",
    "        choice[controlling_flag[i]] = question_str[i]\n",
    "    result['choice'] = choice\n",
    "elif(type_str == '多选'):\n",
    "    if(len(question_str) != len(controlling_flag) - 1 or len(question_str) == 1):\n",
    "        print(\"Unexpected choice question!\")\n",
    "    result['type'] = 'multiple choice'\n",
    "    result['question'] = question_str[0]\n",
    "    choice = {}\n",
    "    for i in range(1,len(question_str)):\n",
    "        choice[controlling_flag[i]] = question_str[i]\n",
    "    result['choice'] = choice\n",
    "else:\n",
    "    print('Unexpected question type')\n",
    "    # assert(1)\n",
    "print(result)\n",
    "    "
   ]
  },
  {
   "cell_type": "code",
   "execution_count": 15,
   "metadata": {},
   "outputs": [
    {
     "name": "stdout",
     "output_type": "stream",
     "text": [
      "(4, '{\"type\": \"single choice\", \"question\": \"\\\\u4e0b\\\\u5217\\\\u54ea\\\\u4e2axxxx\\\\u4e0d\\\\u662f\\\\uff1f\", \"ans\": \"A/B/C/D\", \"choice\": {\"A\": \":...\", \"B\": \":...\", \"C\": \":...\", \"D\": \":...\"}}')\n",
      "(5, '{\"type\": \"multiple choice\", \"question\": \"\\\\u4e0b\\\\u5217\\\\u54ea\\\\u4e9bxxxx\\\\u4e0d\\\\u662f\\\\uff1f\", \"ans\": \"ACD\", \"choice\": {\"A\": \":...\", \"B\": \":...\", \"C\": \":...\", \"D\": \":...\"}}')\n",
      "(0, '{\"type\": \"filling\", \"question\": \"Beihang University\\\\u7684\\\\u82f1\\\\u6587\\\\u7b80\\\\u5199\\\\u662f______\", \"ans\": \"...\"}')\n"
     ]
    }
   ],
   "source": [
    "from utils.data_base import db_wrap\n",
    "\n",
    "db = db_wrap(\"my_question.db\")\n",
    "db.delete_data(2)\n",
    "r = db.get_data_random(3)\n",
    "r = [str(i) for i in r]\n",
    "print('\\n'.join(r))"
   ]
  },
  {
   "cell_type": "code",
   "execution_count": 1,
   "metadata": {},
   "outputs": [],
   "source": [
    "import sqlite3\n",
    "db = sqlite3.connect(\"test.db\")\n",
    "cur = db.cursor()\n",
    "cur.execute(\"CREATE TABLE TEST_TABLE (ID INT KET NOT NULL, CONTENT TEXT NOT NULL, UUID INT NOT NULL, STATUES TEXT NOT NULL)\")\n",
    "db.commit()"
   ]
  },
  {
   "cell_type": "code",
   "execution_count": 3,
   "metadata": {},
   "outputs": [],
   "source": [
    "import sqlite3\n",
    "db = sqlite3.connect(\"test.db\")\n",
    "cur = db.cursor()\n",
    "cur.execute(\"INSERT INTO TEST_TABLE (ID,CONTENT,UUID,STATUES) VALUES (0,\\\"HELLO\\\",12345,\\\"OK\\\")\")\n",
    "db.commit()\n",
    "db.close()"
   ]
  },
  {
   "cell_type": "code",
   "execution_count": 4,
   "metadata": {},
   "outputs": [],
   "source": [
    "import sqlite3\n",
    "db = sqlite3.connect(\"test.db\")"
   ]
  },
  {
   "cell_type": "code",
   "execution_count": 42,
   "metadata": {},
   "outputs": [
    {
     "name": "stdout",
     "output_type": "stream",
     "text": [
      "\n",
      "[]\n"
     ]
    }
   ],
   "source": [
    "cur = db.cursor()\n",
    "try :\n",
    "    cur.execute(\"DROP TABLE TEMP\")\n",
    "except:\n",
    "    print()\n",
    "cur.execute(\"CREATE TABLE TEMP AS SELECT * FROM TEST_TABLE\")\n",
    "r = cur.fetchall()\n",
    "print(r)"
   ]
  },
  {
   "cell_type": "code",
   "execution_count": 43,
   "metadata": {},
   "outputs": [
    {
     "name": "stdout",
     "output_type": "stream",
     "text": [
      "[(0, 'HELLO', 12345, 'OK'), (0, 'HELLO', 12345, 'OK'), (0, 'HELLO', 12345, 'OK'), (0, 'HELLO', 12345, 'OK')]\n"
     ]
    }
   ],
   "source": [
    "cur.execute(\"SELECT * FROM TEMP\")\n",
    "r = cur.fetchall()\n",
    "try :\n",
    "    cur.execute(\"DROP TABLE TEMP\")\n",
    "except:\n",
    "    print()\n",
    "print(r)"
   ]
  }
 ],
 "metadata": {
  "interpreter": {
   "hash": "767d51c1340bd893661ea55ea3124f6de3c7a262a8b4abca0554b478b1e2ff90"
  },
  "kernelspec": {
   "display_name": "Python 3.10.5 64-bit",
   "language": "python",
   "name": "python3"
  },
  "language_info": {
   "codemirror_mode": {
    "name": "ipython",
    "version": 3
   },
   "file_extension": ".py",
   "mimetype": "text/x-python",
   "name": "python",
   "nbconvert_exporter": "python",
   "pygments_lexer": "ipython3",
   "version": "3.10.5"
  },
  "orig_nbformat": 4
 },
 "nbformat": 4,
 "nbformat_minor": 2
}
